{
 "cells": [
  {
   "cell_type": "markdown",
   "metadata": {},
   "source": [
    "## EXOD Detector MOS"
   ]
  },
  {
   "cell_type": "markdown",
   "metadata": {},
   "source": [
    "Import"
   ]
  },
  {
   "cell_type": "code",
   "execution_count": 303,
   "metadata": {},
   "outputs": [],
   "source": [
    "import sys\n",
    "import os\n",
    "import time\n",
    "import shutil\n",
    "from functools import partial\n",
    "from datetime import datetime, date\n",
    "\n",
    "# Third-party imports\n",
    "\n",
    "from math import *\n",
    "from multiprocessing import Pool\n",
    "from astropy.io import fits\n",
    "from astropy.table import Table\n",
    "from astropy import wcs\n",
    "from astropy.coordinates import SkyCoord\n",
    "from astropy import units as u\n",
    "import numpy as np\n",
    "import argparse\n",
    "import matplotlib\n",
    "matplotlib.use(\"Pdf\")\n",
    "from matplotlib import colors, image, transforms, gridspec\n",
    "import matplotlib.pyplot as plt\n",
    "from pylab import figure, cm\n",
    "\n",
    "# Internal imports\n",
    "\n",
    "from fits_extractor import *\n",
    "from variability_utils import *\n",
    "import file_names as FileNames\n",
    "from file_utils import *\n",
    "from renderer import *\n",
    "from exodus_utils import *"
   ]
  },
  {
   "cell_type": "markdown",
   "metadata": {},
   "source": [
    "Arguments"
   ]
  },
  {
   "cell_type": "raw",
   "metadata": {},
   "source": [
    "PN"
   ]
  },
  {
   "cell_type": "code",
   "execution_count": 79,
   "metadata": {},
   "outputs": [],
   "source": [
    "path = '/home/monrillo/data/0744350301/'\n",
    "evts = path + 'PN_clean.fits'\n",
    "img  = path + 'PN_image.fits'\n",
    "gti  = path + 'PN_gti.fits'\n",
    "out  = path + '8_300_5_1.0_PN/'\n",
    "obs  = '0744350301'\n",
    "bs   = 5\n",
    "dl   = 8\n",
    "tw   = 300\n",
    "gtr  = 1.0\n",
    "mta  = 8\n",
    "inst = 'PN'\n",
    "ol   = path + 'log.txt'\n",
    "ccdnb = 12"
   ]
  },
  {
   "cell_type": "raw",
   "metadata": {},
   "source": [
    "M1"
   ]
  },
  {
   "cell_type": "code",
   "execution_count": 329,
   "metadata": {},
   "outputs": [],
   "source": [
    "path = '/home/monrillo/data/0505720201/'\n",
    "evts = path + 'M1_clean.fits'\n",
    "img  = path + 'M1_image.fits'\n",
    "gti  = path + 'M1_gti.fits'\n",
    "out  = path + '8_300_5_1.0_M1/'\n",
    "obs  = '0505720201'\n",
    "bs   = 5\n",
    "dl   = 8\n",
    "tw   = 300\n",
    "gtr  = 1.0\n",
    "mta  = 8\n",
    "inst = 'M1'\n",
    "ol   = path + 'log.txt'\n",
    "ccdnb = 7"
   ]
  },
  {
   "cell_type": "raw",
   "metadata": {},
   "source": [
    "M2"
   ]
  },
  {
   "cell_type": "code",
   "execution_count": 382,
   "metadata": {},
   "outputs": [],
   "source": [
    "path = '/home/monrillo/data/0505720201/'\n",
    "evts = path + 'M2_clean.fits'\n",
    "img  = path + 'M2_image.fits'\n",
    "gti  = path + 'M2_gti.fits'\n",
    "out  = path + '8_300_5_1.0_M2/'\n",
    "obs  = '0505720201'\n",
    "bs   = 5\n",
    "dl   = 8\n",
    "tw   = 300\n",
    "gtr  = 1.0\n",
    "mta  = 8\n",
    "inst = 'M2'\n",
    "ol   = path + 'log.txt'\n",
    "ccdnb = 7"
   ]
  },
  {
   "cell_type": "markdown",
   "metadata": {},
   "source": [
    "Preliminaries"
   ]
  },
  {
   "cell_type": "code",
   "execution_count": 383,
   "metadata": {},
   "outputs": [],
   "source": [
    "# Opening the output fileslog_f, var_f, reg_f = open_files(out)\n",
    "log_f, var_f, reg_f = open_files(out)\n",
    "sys.stdout = Tee(sys.stdout, log_f)\n",
    "\n",
    "# Recovering the EVENTS list\n",
    "data, header = extraction_photons(evts)\n",
    "\n",
    "# Recovering the GTI list\n",
    "gti_list = extraction_deleted_periods(gti)\n",
    "\n",
    "# Computation of t0 and tf\n",
    "t0_observation = min([evt['TIME'] for ccd in data for evt in ccd])\n",
    "tf_observation = max([evt['TIME'] for ccd in data for evt in ccd])"
   ]
  },
  {
   "cell_type": "code",
   "execution_count": 384,
   "metadata": {},
   "outputs": [],
   "source": [
    "submode = header['SUBMODE']"
   ]
  },
  {
   "cell_type": "code",
   "execution_count": 385,
   "metadata": {},
   "outputs": [
    {
     "data": {
      "text/plain": [
       "'PrimeFullWindow'"
      ]
     },
     "execution_count": 385,
     "metadata": {},
     "output_type": "execute_result"
    }
   ],
   "source": [
    "submode"
   ]
  },
  {
   "cell_type": "markdown",
   "metadata": {},
   "source": [
    "#### Computing variability"
   ]
  },
  {
   "cell_type": "code",
   "execution_count": 386,
   "metadata": {},
   "outputs": [],
   "source": [
    "v_matrix = []\n",
    "var_calc_partial = partial(variability_computation, gti_list, tw, gtr, t0_observation, tf_observation, inst)\n",
    "\n",
    "with Pool(mta) as p:\n",
    "    v_matrix = p.map(var_calc_partial, data)"
   ]
  },
  {
   "cell_type": "code",
   "execution_count": 387,
   "metadata": {},
   "outputs": [],
   "source": [
    "if inst == 'PN' :\n",
    "    data_v = PN_config(v_matrix)\n",
    "elif inst == 'M1' :\n",
    "    data_v = M1_config(v_matrix)\n",
    "elif inst == 'M2' :\n",
    "    data_v = M2_config(v_matrix)\n",
    "\n",
    "data_v = np.array(data_v)"
   ]
  },
  {
   "cell_type": "code",
   "execution_count": 85,
   "metadata": {},
   "outputs": [],
   "source": [
    "#PN\n",
    "\n",
    "if submode == 'PrimeLargeWindow' :\n",
    "    data_vm = data_v[:,100:300]\n",
    "if submode == 'PrimeSmallWindow' :\n",
    "    data_vm = data_v[128:192,200:264]\n",
    "else :\n",
    "    data_vm = data_v"
   ]
  },
  {
   "cell_type": "code",
   "execution_count": 335,
   "metadata": {},
   "outputs": [],
   "source": [
    "date_time = header['DATE-OBS']"
   ]
  },
  {
   "cell_type": "code",
   "execution_count": 336,
   "metadata": {},
   "outputs": [
    {
     "data": {
      "text/plain": [
       "'2007-12-29T13:19:11'"
      ]
     },
     "execution_count": 336,
     "metadata": {},
     "output_type": "execute_result"
    }
   ],
   "source": [
    "date_time"
   ]
  },
  {
   "cell_type": "code",
   "execution_count": 319,
   "metadata": {},
   "outputs": [],
   "source": [
    "date_time = date_time[:10]+' '+date_time[11:]"
   ]
  },
  {
   "cell_type": "code",
   "execution_count": 320,
   "metadata": {},
   "outputs": [],
   "source": [
    "date_time_obj = datetime.strptime(header['DATE-OBS'], '%Y-%m-%dT%H:%M:%S')"
   ]
  },
  {
   "cell_type": "code",
   "execution_count": 321,
   "metadata": {},
   "outputs": [
    {
     "data": {
      "text/plain": [
       "datetime.date(2014, 8, 9)"
      ]
     },
     "execution_count": 321,
     "metadata": {},
     "output_type": "execute_result"
    }
   ],
   "source": [
    "date_time_obj.date()"
   ]
  },
  {
   "cell_type": "code",
   "execution_count": 308,
   "metadata": {},
   "outputs": [],
   "source": [
    "date_crash1 = date(2007, 2, 21)"
   ]
  },
  {
   "cell_type": "code",
   "execution_count": 322,
   "metadata": {},
   "outputs": [
    {
     "data": {
      "text/plain": [
       "True"
      ]
     },
     "execution_count": 322,
     "metadata": {},
     "output_type": "execute_result"
    }
   ],
   "source": [
    "date_time_obj.date() >= date_crash1"
   ]
  },
  {
   "cell_type": "code",
   "execution_count": 388,
   "metadata": {},
   "outputs": [],
   "source": [
    "#MOS\n",
    "\n",
    "data_vm = data_v\n",
    "#data_vm = np.concatenate((data_v[:,1650:],data_v[:,:1650]),axis=1)\n",
    "#data_vm = data_v[299:1499,:]"
   ]
  },
  {
   "cell_type": "code",
   "execution_count": 389,
   "metadata": {},
   "outputs": [
    {
     "data": {
      "text/plain": [
       "(1800, 1800)"
      ]
     },
     "execution_count": 389,
     "metadata": {},
     "output_type": "execute_result"
    }
   ],
   "source": [
    "np.shape(data_vm)"
   ]
  },
  {
   "cell_type": "markdown",
   "metadata": {},
   "source": [
    "#### Geometrical transformations"
   ]
  },
  {
   "cell_type": "code",
   "execution_count": 390,
   "metadata": {},
   "outputs": [],
   "source": [
    "# Header information\n",
    "angle = header['PA_PNT']\n",
    "\n",
    "xproj = [float(header['TDMIN6']), float(header['TDMAX6'])] # projected x limits\n",
    "yproj = [float(header['TDMIN7']), float(header['TDMAX7'])] # projected y limits\n",
    "xlims = [float(header['TLMIN6']), float(header['TLMAX6'])] # legal x limits\n",
    "ylims = [float(header['TLMIN7']), float(header['TLMAX7'])] # legal y limits\n",
    "\n",
    "# scaling factor\n",
    "sx = 648 / (xlims[1] - xlims[0])\n",
    "sy = 648 / (ylims[1] - ylims[0])"
   ]
  },
  {
   "cell_type": "code",
   "execution_count": 87,
   "metadata": {},
   "outputs": [],
   "source": [
    "# PN\n",
    "\n",
    "# pads (padding)\n",
    "padX = (int((xproj[0] - xlims[0])*sx), int((xlims[1] - xproj[1])*sx))\n",
    "padY = (int((yproj[0] - ylims[0])*sy), int((ylims[1] - yproj[1])*sy))\n",
    "# shape (resizing)\n",
    "pixX = 648 - (padX[0] + padX[1])\n",
    "pixY = 648 - (padY[0] +padY[1])\n",
    "\n",
    "# Transformations\n",
    "## Rotation\n",
    "dataR = np.flipud(nd.rotate(data_vm, angle, reshape = True))\n",
    "## Resizing\n",
    "dataT = skimage.transform.resize(dataR, (pixY, pixX), mode='constant', cval=0.0) # xy reversed\n",
    "## Padding\n",
    "dataP = np.pad(dataT, (padY, padX), 'constant', constant_values=0) # xy reversed"
   ]
  },
  {
   "cell_type": "code",
   "execution_count": 391,
   "metadata": {},
   "outputs": [],
   "source": [
    "# MOS\n",
    "\n",
    "# pads (padding)\n",
    "interX = (int((xproj[0] - xlims[0])*sx), int((xlims[1] - xproj[1])*sx))\n",
    "interY = (int((yproj[0] - ylims[0])*sy), int((ylims[1] - yproj[1])*sy))\n",
    "\n",
    "numX = int((148-(interX[0] + interX[1]))/2)\n",
    "numY = int((148-(interY[0] + interY[1]))/2)\n",
    "    \n",
    "padX = (interX[0]+numX, 148-(interX[0]+numX))\n",
    "padY = (interY[0]+numY, 148-(interY[0]+numY))\n",
    "\n",
    "# Transformations\n",
    "## Rotation\n",
    "dataR = np.flipud(nd.rotate(data_vm, angle, reshape = False))\n",
    "## Resizing\n",
    "dataT = skimage.transform.resize(dataR, (500, 500), mode='constant', cval=0.0)\n",
    "## Padding\n",
    "dataP = np.pad(dataT, (padY, padX), 'constant', constant_values=0) # xy reversed"
   ]
  },
  {
   "cell_type": "code",
   "execution_count": 251,
   "metadata": {},
   "outputs": [],
   "source": [
    "# MOS TEST !!!\n",
    "\n",
    "# pads (padding)\n",
    "interX = (int((xproj[0] - xlims[0])*sx), int((xlims[1] - xproj[1])*sx))\n",
    "interY = (int((yproj[0] - ylims[0])*sy), int((ylims[1] - yproj[1])*sy))\n",
    "\n",
    "numX = int((148-(interX[0] + interX[1]))/2)\n",
    "numY = int((148-(interY[0] + interY[1]))/2)\n",
    "    \n",
    "padX = (interX[0]+numX, 148-(interX[0]+numX))\n",
    "padY = (interY[0]+numY, 148-(interY[0]+numY))\n",
    "\n",
    "# Transformations\n",
    "dataTest = skimage.transform.resize(data_vm, (1800, 1800), mode='constant', cval=0.0)\n",
    "## Rotation\n",
    "dataR = np.flipud(nd.rotate(dataTest, angle, reshape = False))\n",
    "## Resizing\n",
    "dataT = skimage.transform.resize(dataR, (500, 500), mode='constant', cval=0.0)\n",
    "## Padding\n",
    "dataP = np.pad(dataT, (padY, padX), 'constant', constant_values=0) # xy reversed"
   ]
  },
  {
   "cell_type": "code",
   "execution_count": 347,
   "metadata": {},
   "outputs": [],
   "source": [
    "hdulist    = fits.open(img)\n",
    "header_img = hdulist[0].header\n",
    "hdulist.close()\n",
    "\n",
    "# Creating fits file\n",
    "hdul_f   = fits.HDUList()\n",
    "hdul_var = fits.ImageHDU(data=dataP, header=header_img)\n",
    "#hdul_src = fits.BinTableHDU(data=source_table)\n",
    "hdul_f.append(hdul_var)\n",
    "#hdul_f.append(hdul_src)\n",
    "\n",
    "# Writing to file\n",
    "file  = path + inst + '_variability_test.fits'\n",
    "\n",
    "hdul_f.writeto(file, overwrite=True)"
   ]
  },
  {
   "cell_type": "markdown",
   "metadata": {},
   "source": [
    "#### Variable areas"
   ]
  },
  {
   "cell_type": "code",
   "execution_count": 392,
   "metadata": {},
   "outputs": [],
   "source": [
    "v_matrix = np.array(v_matrix)\n",
    "median = np.median(v_matrix)"
   ]
  },
  {
   "cell_type": "code",
   "execution_count": 393,
   "metadata": {},
   "outputs": [],
   "source": [
    "if median < 0.75 :\n",
    "    median = 0.75"
   ]
  },
  {
   "cell_type": "code",
   "execution_count": 394,
   "metadata": {},
   "outputs": [],
   "source": [
    "variable_areas = []\n",
    "variable_areas_detection_partial = partial(variable_areas_detection, median, bs, dl, inst)\n",
    "\n",
    "with Pool(mta) as p:\n",
    "    variable_areas = p.map(variable_areas_detection_partial, v_matrix)"
   ]
  },
  {
   "cell_type": "markdown",
   "metadata": {},
   "source": [
    "#### Searching for sources"
   ]
  },
  {
   "cell_type": "code",
   "execution_count": 395,
   "metadata": {},
   "outputs": [],
   "source": [
    "sources = []\n",
    "cpt_source = 0\n",
    "\n",
    "# Computing source position\n",
    "for ccd in range(ccdnb) :\n",
    "    for source in variable_areas[ccd] :\n",
    "        center_x = round(sum([p[0] for p in source]) / len(source), 2)\n",
    "        center_y = round(sum([p[1] for p in source]) / len(source), 2)\n",
    "\n",
    "        r = round(sqrt( (max([abs(p[0] - center_x) for p in source]))**2 + (max([abs(p[1] - center_y) for p in source]))**2 ), 2)\n",
    "\n",
    "        # Avoiding bad pixels\n",
    "        if [inst, ccd, int(center_x)] not in [['PN',4,11], ['PN',4,12], ['PN',4,13], ['PN',5,12], ['PN',10,28]] :\n",
    "            cpt_source += 1\n",
    "            sources.append([cpt_source, inst, ccd+1, center_x, center_y, r])"
   ]
  },
  {
   "cell_type": "code",
   "execution_count": 396,
   "metadata": {},
   "outputs": [],
   "source": [
    "source_table = Table(names=('ID', 'INST', 'CCDNR', 'RAWX', 'RAWY', 'RAWR', 'X', 'Y', 'SKYR', 'RA', 'DEC', 'R')\\\n",
    "                     , dtype=('i2', 'U25', 'i2', 'f8', 'f8', 'f8', 'f8', 'f8', 'f8', 'f8', 'f8', 'f8'))\n",
    "for i in range(len(sources)) :\n",
    "    \n",
    "    # Getting Source class\n",
    "    src = Source(sources[i])\n",
    "    src.sky_coord(path, img, log_f)\n",
    "    \n",
    "    # Adding source to table\n",
    "    source_table.add_row([src.id_src, src.inst, src.ccd, src.rawx, src.rawy, src.rawr, src.x, src.y, src.skyr, src.ra, src.dec, src.r])"
   ]
  },
  {
   "cell_type": "markdown",
   "metadata": {},
   "source": [
    "#### Writing FITS"
   ]
  },
  {
   "cell_type": "code",
   "execution_count": 397,
   "metadata": {},
   "outputs": [],
   "source": [
    "hdulist    = fits.open(img)\n",
    "header_img = hdulist[0].header\n",
    "hdulist.close()\n",
    "\n",
    "# Creating fits file\n",
    "hdul_f   = fits.HDUList()\n",
    "hdul_var = fits.ImageHDU(data=dataP, header=header_img)\n",
    "hdul_src = fits.BinTableHDU(data=source_table)\n",
    "hdul_f.append(hdul_var)\n",
    "hdul_f.append(hdul_src)\n",
    "\n",
    "# Writing to file\n",
    "file  = path + inst + '_variability_test.fits'\n",
    "\n",
    "hdul_f.writeto(file, overwrite=True)"
   ]
  },
  {
   "cell_type": "markdown",
   "metadata": {},
   "source": [
    "##### WCS Transformation"
   ]
  },
  {
   "cell_type": "code",
   "execution_count": 398,
   "metadata": {},
   "outputs": [],
   "source": [
    "# Opening variability file\n",
    "hdulist = fits.open(file)\n",
    "\n",
    "data   = hdulist[0].data\n",
    "src    = hdulist[1].data\n",
    "header = hdulist[0].header\n",
    "\n",
    "hdulist.close()\n",
    "\n",
    "# Obtaining the WCS transformation parameters\n",
    "\n",
    "header.rename_keyword('RADECSYS', 'RADESYS')\n",
    "\n",
    "w = wcs.WCS(header)\n",
    "\n",
    "w.wcs.crpix = [header['REFXCRPX'], header['REFYCRPX']]\n",
    "w.wcs.cdelt = [header['REFXCDLT']/15, header['REFYCDLT']]\n",
    "w.wcs.crval = [header['REFXCRVL']/15, header['REFYCRVL']]\n",
    "w.wcs.ctype = [header['REFXCTYP'], header['REFYCTYP']]\n",
    "\n",
    "# Image limit\n",
    "dlim = [header['REFXLMIN'], header['REFXLMAX'], header['REFYLMIN'], header['REFYLMAX']]"
   ]
  },
  {
   "cell_type": "markdown",
   "metadata": {},
   "source": [
    "#### Computing sources list"
   ]
  },
  {
   "cell_type": "code",
   "execution_count": 399,
   "metadata": {},
   "outputs": [],
   "source": [
    "if inst == 'PN':\n",
    "    src_PN = Table(src)\n",
    "elif inst == 'M1':\n",
    "    src_M1 = Table(src)\n",
    "elif inst == 'M2':\n",
    "    src_M2 = Table(src)"
   ]
  },
  {
   "cell_type": "code",
   "execution_count": 70,
   "metadata": {},
   "outputs": [],
   "source": [
    "corr_table = Table(names=('ID_1', 'INST_1', 'RA_1', 'DEC_1', 'R_1','ID_2', 'INST_2', 'RA_2', 'DEC_2', 'R_2')\\\n",
    "                   , dtype=('i2', 'U25', 'f8', 'f8', 'f8','i2', 'U25', 'f8', 'f8', 'f8'))"
   ]
  },
  {
   "cell_type": "code",
   "execution_count": 411,
   "metadata": {},
   "outputs": [
    {
     "data": {
      "text/html": [
       "<i>Table length=39</i>\n",
       "<table id=\"table140075211547408\" class=\"table-striped table-bordered table-condensed\">\n",
       "<thead><tr><th>ID_1</th><th>INST_1</th><th>RA_1</th><th>DEC_1</th><th>R_1</th><th>ID_2</th><th>INST_2</th><th>RA_2</th><th>DEC_2</th><th>R_2</th></tr></thead>\n",
       "<thead><tr><th>int16</th><th>str25</th><th>float64</th><th>float64</th><th>float64</th><th>int16</th><th>str25</th><th>float64</th><th>float64</th><th>float64</th></tr></thead>\n",
       "<tr><td>4</td><td>PN</td><td>76.9524</td><td>30.4041</td><td>20.416</td><td>1</td><td>M1</td><td>76.9548</td><td>30.4013</td><td>24.32</td></tr>\n",
       "<tr><td>4</td><td>PN</td><td>76.9524</td><td>30.4041</td><td>20.416</td><td>2</td><td>M1</td><td>76.9564</td><td>30.4006</td><td>9.056000000000001</td></tr>\n",
       "<tr><td>6</td><td>PN</td><td>76.9608</td><td>30.4047</td><td>9.056000000000001</td><td>1</td><td>M1</td><td>76.9548</td><td>30.4013</td><td>24.32</td></tr>\n",
       "<tr><td>1</td><td>M1</td><td>76.9548</td><td>30.4013</td><td>24.32</td><td>1</td><td>M2</td><td>76.956</td><td>30.4015</td><td>66.976</td></tr>\n",
       "<tr><td>2</td><td>M1</td><td>76.9564</td><td>30.4006</td><td>9.056000000000001</td><td>1</td><td>M2</td><td>76.956</td><td>30.4015</td><td>66.976</td></tr>\n",
       "<tr><td>4</td><td>PN</td><td>76.9524</td><td>30.4041</td><td>20.416</td><td>1</td><td>M2</td><td>76.956</td><td>30.4015</td><td>66.976</td></tr>\n",
       "<tr><td>6</td><td>PN</td><td>76.9608</td><td>30.4047</td><td>9.056000000000001</td><td>1</td><td>M2</td><td>76.956</td><td>30.4015</td><td>66.976</td></tr>\n",
       "<tr><td>11</td><td>M1</td><td>10.6832</td><td>41.2684</td><td>15.104</td><td>13</td><td>M2</td><td>10.6825</td><td>41.2758</td><td>19.040000000000003</td></tr>\n",
       "<tr><td>11</td><td>M1</td><td>10.6832</td><td>41.2684</td><td>15.104</td><td>14</td><td>M2</td><td>10.6873</td><td>41.2731</td><td>11.328000000000001</td></tr>\n",
       "<tr><td>11</td><td>M1</td><td>10.6832</td><td>41.2684</td><td>15.104</td><td>12</td><td>M2</td><td>10.6826</td><td>41.2693</td><td>9.056000000000001</td></tr>\n",
       "<tr><td>...</td><td>...</td><td>...</td><td>...</td><td>...</td><td>...</td><td>...</td><td>...</td><td>...</td><td>...</td></tr>\n",
       "<tr><td>13</td><td>M1</td><td>10.6643</td><td>41.2657</td><td>9.056000000000001</td><td>9</td><td>M2</td><td>10.6657</td><td>41.2671</td><td>9.056000000000001</td></tr>\n",
       "<tr><td>13</td><td>M1</td><td>10.6643</td><td>41.2657</td><td>9.056000000000001</td><td>10</td><td>M2</td><td>10.666</td><td>41.2694</td><td>9.056000000000001</td></tr>\n",
       "<tr><td>14</td><td>M1</td><td>10.6961</td><td>41.2733</td><td>9.056000000000001</td><td>16</td><td>M2</td><td>10.6959</td><td>41.2732</td><td>16.0</td></tr>\n",
       "<tr><td>15</td><td>M1</td><td>10.6582</td><td>41.265</td><td>9.056000000000001</td><td>7</td><td>M2</td><td>10.6623</td><td>41.2702</td><td>16.0</td></tr>\n",
       "<tr><td>15</td><td>M1</td><td>10.6582</td><td>41.265</td><td>9.056000000000001</td><td>5</td><td>M2</td><td>10.6572</td><td>41.2698</td><td>13.76</td></tr>\n",
       "<tr><td>15</td><td>M1</td><td>10.6582</td><td>41.265</td><td>9.056000000000001</td><td>4</td><td>M2</td><td>10.6582</td><td>41.2667</td><td>9.056000000000001</td></tr>\n",
       "<tr><td>15</td><td>M1</td><td>10.6582</td><td>41.265</td><td>9.056000000000001</td><td>6</td><td>M2</td><td>10.6635</td><td>41.2663</td><td>9.056000000000001</td></tr>\n",
       "<tr><td>9</td><td>M1</td><td>10.6984</td><td>41.2598</td><td>9.056000000000001</td><td>15</td><td>M2</td><td>10.701</td><td>41.2572</td><td>9.056000000000001</td></tr>\n",
       "<tr><td>9</td><td>M1</td><td>10.6984</td><td>41.2598</td><td>9.056000000000001</td><td>17</td><td>M2</td><td>10.7031</td><td>41.2573</td><td>9.056000000000001</td></tr>\n",
       "<tr><td>21</td><td>M1</td><td>10.5755</td><td>41.2075</td><td>9.056000000000001</td><td>28</td><td>M2</td><td>10.5775</td><td>41.2068</td><td>9.056000000000001</td></tr>\n",
       "</table>"
      ],
      "text/plain": [
       "<Table length=39>\n",
       " ID_1 INST_1   RA_1   DEC_1  ... INST_2   RA_2   DEC_2         R_2        \n",
       "int16 str25  float64 float64 ... str25  float64 float64      float64      \n",
       "----- ------ ------- ------- ... ------ ------- ------- ------------------\n",
       "    4     PN 76.9524 30.4041 ...     M1 76.9548 30.4013              24.32\n",
       "    4     PN 76.9524 30.4041 ...     M1 76.9564 30.4006  9.056000000000001\n",
       "    6     PN 76.9608 30.4047 ...     M1 76.9548 30.4013              24.32\n",
       "    1     M1 76.9548 30.4013 ...     M2  76.956 30.4015             66.976\n",
       "    2     M1 76.9564 30.4006 ...     M2  76.956 30.4015             66.976\n",
       "    4     PN 76.9524 30.4041 ...     M2  76.956 30.4015             66.976\n",
       "    6     PN 76.9608 30.4047 ...     M2  76.956 30.4015             66.976\n",
       "   11     M1 10.6832 41.2684 ...     M2 10.6825 41.2758 19.040000000000003\n",
       "   11     M1 10.6832 41.2684 ...     M2 10.6873 41.2731 11.328000000000001\n",
       "   11     M1 10.6832 41.2684 ...     M2 10.6826 41.2693  9.056000000000001\n",
       "  ...    ...     ...     ... ...    ...     ...     ...                ...\n",
       "   13     M1 10.6643 41.2657 ...     M2 10.6657 41.2671  9.056000000000001\n",
       "   13     M1 10.6643 41.2657 ...     M2  10.666 41.2694  9.056000000000001\n",
       "   14     M1 10.6961 41.2733 ...     M2 10.6959 41.2732               16.0\n",
       "   15     M1 10.6582  41.265 ...     M2 10.6623 41.2702               16.0\n",
       "   15     M1 10.6582  41.265 ...     M2 10.6572 41.2698              13.76\n",
       "   15     M1 10.6582  41.265 ...     M2 10.6582 41.2667  9.056000000000001\n",
       "   15     M1 10.6582  41.265 ...     M2 10.6635 41.2663  9.056000000000001\n",
       "    9     M1 10.6984 41.2598 ...     M2  10.701 41.2572  9.056000000000001\n",
       "    9     M1 10.6984 41.2598 ...     M2 10.7031 41.2573  9.056000000000001\n",
       "   21     M1 10.5755 41.2075 ...     M2 10.5775 41.2068  9.056000000000001"
      ]
     },
     "execution_count": 411,
     "metadata": {},
     "output_type": "execute_result"
    }
   ],
   "source": [
    "check_correlation(src_PN, src_M1, corr_table)\n",
    "check_correlation(src_M1, src_M2, corr_table)\n",
    "check_correlation(src_PN, src_M2, corr_table)"
   ]
  },
  {
   "cell_type": "code",
   "execution_count": 412,
   "metadata": {},
   "outputs": [],
   "source": [
    "corr_PN_M1 = corr_table[np.where((corr_table['INST_1']=='PN') & (corr_table['INST_2']=='M1'))]\n",
    "corr_M1_M2 = corr_table[np.where((corr_table['INST_1']=='M1') & (corr_table['INST_2']=='M2'))]\n",
    "corr_PN_M2 = corr_table[np.where((corr_table['INST_1']=='PN') & (corr_table['INST_2']=='M2'))]"
   ]
  },
  {
   "cell_type": "code",
   "execution_count": 415,
   "metadata": {},
   "outputs": [
    {
     "data": {
      "text/plain": [
       "[[6, 'PN', 1, 'M1', 1, 'M2']]"
      ]
     },
     "execution_count": 415,
     "metadata": {},
     "output_type": "execute_result"
    }
   ],
   "source": [
    "src_triple"
   ]
  },
  {
   "cell_type": "code",
   "execution_count": 413,
   "metadata": {},
   "outputs": [],
   "source": [
    "src_triple = check_triple(corr_PN_M1, corr_M1_M2, corr_PN_M2)"
   ]
  },
  {
   "cell_type": "code",
   "execution_count": 429,
   "metadata": {},
   "outputs": [
    {
     "data": {
      "text/html": [
       "<i>Table length=19</i>\n",
       "<table id=\"table140074582661200\" class=\"table-striped table-bordered table-condensed\">\n",
       "<thead><tr><th>ID</th><th>INST</th><th>CCDNR</th><th>RAWX</th><th>RAWY</th><th>RAWR</th><th>X</th><th>Y</th><th>SKYR</th><th>RA</th><th>DEC</th><th>R</th></tr></thead>\n",
       "<thead><tr><th>int16</th><th>str25</th><th>int16</th><th>float64</th><th>float64</th><th>float64</th><th>float64</th><th>float64</th><th>float64</th><th>float64</th><th>float64</th><th>float64</th></tr></thead>\n",
       "<tr><td>19</td><td>M2</td><td>1</td><td>403.5</td><td>276.0</td><td>5.32</td><td>25193.22</td><td>27279.02</td><td>340.48</td><td>10.728</td><td>41.2689</td><td>17.024</td></tr>\n",
       "<tr><td>7</td><td>M2</td><td>1</td><td>250.0</td><td>326.0</td><td>5.0</td><td>28746.13</td><td>27372.0</td><td>320.0</td><td>10.6623</td><td>41.2702</td><td>16.0</td></tr>\n",
       "<tr><td>16</td><td>M2</td><td>1</td><td>332.0</td><td>312.0</td><td>5.0</td><td>26927.84</td><td>27590.56</td><td>320.0</td><td>10.6959</td><td>41.2732</td><td>16.0</td></tr>\n",
       "<tr><td>21</td><td>M2</td><td>1</td><td>430.5</td><td>427.0</td><td>4.61</td><td>25569.97</td><td>30634.99</td><td>295.04</td><td>10.721</td><td>41.3155</td><td>14.752000000000002</td></tr>\n",
       "<tr><td>3</td><td>M2</td><td>1</td><td>176.0</td><td>362.0</td><td>3.61</td><td>30533.5</td><td>27667.87</td><td>231.04</td><td>10.6293</td><td>41.2743</td><td>11.552</td></tr>\n",
       "<tr><td>14</td><td>M2</td><td>1</td><td>311.5</td><td>317.5</td><td>3.54</td><td>27394.95</td><td>27578.13</td><td>226.56</td><td>10.6873</td><td>41.2731</td><td>11.328000000000001</td></tr>\n",
       "<tr><td>12</td><td>M2</td><td>1</td><td>297.0</td><td>309.0</td><td>2.83</td><td>27647.67</td><td>27307.85</td><td>181.12</td><td>10.6826</td><td>41.2693</td><td>9.056000000000001</td></tr>\n",
       "<tr><td>4</td><td>M2</td><td>1</td><td>237.0</td><td>318.0</td><td>2.83</td><td>28970.34</td><td>27121.67</td><td>181.12</td><td>10.6582</td><td>41.2667</td><td>9.056000000000001</td></tr>\n",
       "<tr><td>11</td><td>M2</td><td>1</td><td>283.0</td><td>289.0</td><td>2.83</td><td>27817.76</td><td>26798.01</td><td>181.12</td><td>10.6795</td><td>41.2622</td><td>9.056000000000001</td></tr>\n",
       "<tr><td>28</td><td>M2</td><td>6</td><td>411.0</td><td>592.0</td><td>2.83</td><td>33345.83</td><td>22813.33</td><td>181.12</td><td>10.5775</td><td>41.2068</td><td>9.056000000000001</td></tr>\n",
       "<tr><td>27</td><td>M2</td><td>6</td><td>73.0</td><td>579.0</td><td>2.83</td><td>35738.96</td><td>29865.02</td><td>181.12</td><td>10.533</td><td>41.3047</td><td>9.056000000000001</td></tr>\n",
       "<tr><td>15</td><td>M2</td><td>1</td><td>329.0</td><td>258.0</td><td>2.83</td><td>26652.64</td><td>26432.14</td><td>181.12</td><td>10.701</td><td>41.2572</td><td>9.056000000000001</td></tr>\n",
       "<tr><td>18</td><td>M2</td><td>1</td><td>379.0</td><td>258.0</td><td>2.83</td><td>25597.44</td><td>26745.57</td><td>181.12</td><td>10.7205</td><td>41.2615</td><td>9.056000000000001</td></tr>\n",
       "<tr><td>22</td><td>M2</td><td>1</td><td>505.0</td><td>430.0</td><td>2.83</td><td>24016.52</td><td>31165.31</td><td>181.12</td><td>10.7498</td><td>41.3229</td><td>9.056000000000001</td></tr>\n",
       "<tr><td>23</td><td>M2</td><td>1</td><td>540.0</td><td>161.0</td><td>2.83</td><td>21591.63</td><td>25707.71</td><td>181.12</td><td>10.7945</td><td>41.2471</td><td>9.056000000000001</td></tr>\n",
       "<tr><td>24</td><td>M2</td><td>1</td><td>541.0</td><td>171.0</td><td>2.83</td><td>21633.21</td><td>25925.02</td><td>181.12</td><td>10.7938</td><td>41.2501</td><td>9.056000000000001</td></tr>\n",
       "<tr><td>25</td><td>M2</td><td>2</td><td>368.0</td><td>446.0</td><td>2.83</td><td>20835.66</td><td>16699.77</td><td>181.12</td><td>10.8083</td><td>41.1219</td><td>9.056000000000001</td></tr>\n",
       "<tr><td>26</td><td>M2</td><td>3</td><td>159.0</td><td>214.0</td><td>2.83</td><td>11926.73</td><td>28287.97</td><td>181.12</td><td>10.9732</td><td>41.2826</td><td>9.056000000000001</td></tr>\n",
       "<tr><td>1</td><td>M2</td><td>1</td><td>48.0</td><td>36.0</td><td>2.83</td><td>31191.27</td><td>19985.56</td><td>181.12</td><td>10.6173</td><td>41.1676</td><td>9.056000000000001</td></tr>\n",
       "</table>"
      ],
      "text/plain": [
       "<Table length=19>\n",
       "  ID   INST CCDNR   RAWX    RAWY  ...   SKYR     RA     DEC           R         \n",
       "int16 str25 int16 float64 float64 ... float64 float64 float64      float64      \n",
       "----- ----- ----- ------- ------- ... ------- ------- ------- ------------------\n",
       "   19    M2     1   403.5   276.0 ...  340.48  10.728 41.2689             17.024\n",
       "    7    M2     1   250.0   326.0 ...   320.0 10.6623 41.2702               16.0\n",
       "   16    M2     1   332.0   312.0 ...   320.0 10.6959 41.2732               16.0\n",
       "   21    M2     1   430.5   427.0 ...  295.04  10.721 41.3155 14.752000000000002\n",
       "    3    M2     1   176.0   362.0 ...  231.04 10.6293 41.2743             11.552\n",
       "   14    M2     1   311.5   317.5 ...  226.56 10.6873 41.2731 11.328000000000001\n",
       "   12    M2     1   297.0   309.0 ...  181.12 10.6826 41.2693  9.056000000000001\n",
       "    4    M2     1   237.0   318.0 ...  181.12 10.6582 41.2667  9.056000000000001\n",
       "   11    M2     1   283.0   289.0 ...  181.12 10.6795 41.2622  9.056000000000001\n",
       "   28    M2     6   411.0   592.0 ...  181.12 10.5775 41.2068  9.056000000000001\n",
       "   27    M2     6    73.0   579.0 ...  181.12  10.533 41.3047  9.056000000000001\n",
       "   15    M2     1   329.0   258.0 ...  181.12  10.701 41.2572  9.056000000000001\n",
       "   18    M2     1   379.0   258.0 ...  181.12 10.7205 41.2615  9.056000000000001\n",
       "   22    M2     1   505.0   430.0 ...  181.12 10.7498 41.3229  9.056000000000001\n",
       "   23    M2     1   540.0   161.0 ...  181.12 10.7945 41.2471  9.056000000000001\n",
       "   24    M2     1   541.0   171.0 ...  181.12 10.7938 41.2501  9.056000000000001\n",
       "   25    M2     2   368.0   446.0 ...  181.12 10.8083 41.1219  9.056000000000001\n",
       "   26    M2     3   159.0   214.0 ...  181.12 10.9732 41.2826  9.056000000000001\n",
       "    1    M2     1    48.0    36.0 ...  181.12 10.6173 41.1676  9.056000000000001"
      ]
     },
     "execution_count": 429,
     "metadata": {},
     "output_type": "execute_result"
    }
   ],
   "source": [
    "src_M2"
   ]
  },
  {
   "cell_type": "code",
   "execution_count": 401,
   "metadata": {},
   "outputs": [],
   "source": [
    "src_M2.sort(['R'])\n",
    "src_M2.reverse()"
   ]
  },
  {
   "cell_type": "code",
   "execution_count": 426,
   "metadata": {},
   "outputs": [],
   "source": [
    "essai = []\n",
    "for i in range(len(src_M2)):\n",
    "    for j in range(i+1,len(src_M2)):\n",
    "        c1 = SkyCoord(src_M2['RA'][i], src_M2['DEC'][i], frame='fk5', unit='deg')\n",
    "        c2 = SkyCoord(src_M2['RA'][j], src_M2['DEC'][j], frame='fk5', unit='deg')\n",
    "        sep = c1.separation(c2)\n",
    "        #if sep.arcsecond < (src_M2['R'][i]-(src_M2['R'][j]/2)):\n",
    "        if sep.arcsecond < (src_M2['R'][i]):\n",
    "            essai.append(j)"
   ]
  },
  {
   "cell_type": "code",
   "execution_count": 427,
   "metadata": {},
   "outputs": [
    {
     "data": {
      "text/plain": [
       "[9, 16, 7, 14]"
      ]
     },
     "execution_count": 427,
     "metadata": {},
     "output_type": "execute_result"
    }
   ],
   "source": [
    "essai"
   ]
  },
  {
   "cell_type": "code",
   "execution_count": 428,
   "metadata": {},
   "outputs": [],
   "source": [
    "src_M2.remove_rows(essai)"
   ]
  },
  {
   "cell_type": "markdown",
   "metadata": {},
   "source": [
    "#### Displaying"
   ]
  },
  {
   "cell_type": "code",
   "execution_count": 405,
   "metadata": {},
   "outputs": [],
   "source": [
    "maximum_value = max([max(tmp) for tmp in data])"
   ]
  },
  {
   "cell_type": "code",
   "execution_count": 406,
   "metadata": {},
   "outputs": [
    {
     "data": {
      "text/plain": [
       "3.9106198445928584"
      ]
     },
     "execution_count": 406,
     "metadata": {},
     "output_type": "execute_result"
    }
   ],
   "source": [
    "maximum_value"
   ]
  },
  {
   "cell_type": "code",
   "execution_count": 407,
   "metadata": {},
   "outputs": [
    {
     "data": {
      "application/javascript": [
       "/* Put everything inside the global mpl namespace */\n",
       "window.mpl = {};\n",
       "\n",
       "\n",
       "mpl.get_websocket_type = function() {\n",
       "    if (typeof(WebSocket) !== 'undefined') {\n",
       "        return WebSocket;\n",
       "    } else if (typeof(MozWebSocket) !== 'undefined') {\n",
       "        return MozWebSocket;\n",
       "    } else {\n",
       "        alert('Your browser does not have WebSocket support. ' +\n",
       "              'Please try Chrome, Safari or Firefox ≥ 6. ' +\n",
       "              'Firefox 4 and 5 are also supported but you ' +\n",
       "              'have to enable WebSockets in about:config.');\n",
       "    };\n",
       "}\n",
       "\n",
       "mpl.figure = function(figure_id, websocket, ondownload, parent_element) {\n",
       "    this.id = figure_id;\n",
       "\n",
       "    this.ws = websocket;\n",
       "\n",
       "    this.supports_binary = (this.ws.binaryType != undefined);\n",
       "\n",
       "    if (!this.supports_binary) {\n",
       "        var warnings = document.getElementById(\"mpl-warnings\");\n",
       "        if (warnings) {\n",
       "            warnings.style.display = 'block';\n",
       "            warnings.textContent = (\n",
       "                \"This browser does not support binary websocket messages. \" +\n",
       "                    \"Performance may be slow.\");\n",
       "        }\n",
       "    }\n",
       "\n",
       "    this.imageObj = new Image();\n",
       "\n",
       "    this.context = undefined;\n",
       "    this.message = undefined;\n",
       "    this.canvas = undefined;\n",
       "    this.rubberband_canvas = undefined;\n",
       "    this.rubberband_context = undefined;\n",
       "    this.format_dropdown = undefined;\n",
       "\n",
       "    this.image_mode = 'full';\n",
       "\n",
       "    this.root = $('<div/>');\n",
       "    this._root_extra_style(this.root)\n",
       "    this.root.attr('style', 'display: inline-block');\n",
       "\n",
       "    $(parent_element).append(this.root);\n",
       "\n",
       "    this._init_header(this);\n",
       "    this._init_canvas(this);\n",
       "    this._init_toolbar(this);\n",
       "\n",
       "    var fig = this;\n",
       "\n",
       "    this.waiting = false;\n",
       "\n",
       "    this.ws.onopen =  function () {\n",
       "            fig.send_message(\"supports_binary\", {value: fig.supports_binary});\n",
       "            fig.send_message(\"send_image_mode\", {});\n",
       "            if (mpl.ratio != 1) {\n",
       "                fig.send_message(\"set_dpi_ratio\", {'dpi_ratio': mpl.ratio});\n",
       "            }\n",
       "            fig.send_message(\"refresh\", {});\n",
       "        }\n",
       "\n",
       "    this.imageObj.onload = function() {\n",
       "            if (fig.image_mode == 'full') {\n",
       "                // Full images could contain transparency (where diff images\n",
       "                // almost always do), so we need to clear the canvas so that\n",
       "                // there is no ghosting.\n",
       "                fig.context.clearRect(0, 0, fig.canvas.width, fig.canvas.height);\n",
       "            }\n",
       "            fig.context.drawImage(fig.imageObj, 0, 0);\n",
       "        };\n",
       "\n",
       "    this.imageObj.onunload = function() {\n",
       "        fig.ws.close();\n",
       "    }\n",
       "\n",
       "    this.ws.onmessage = this._make_on_message_function(this);\n",
       "\n",
       "    this.ondownload = ondownload;\n",
       "}\n",
       "\n",
       "mpl.figure.prototype._init_header = function() {\n",
       "    var titlebar = $(\n",
       "        '<div class=\"ui-dialog-titlebar ui-widget-header ui-corner-all ' +\n",
       "        'ui-helper-clearfix\"/>');\n",
       "    var titletext = $(\n",
       "        '<div class=\"ui-dialog-title\" style=\"width: 100%; ' +\n",
       "        'text-align: center; padding: 3px;\"/>');\n",
       "    titlebar.append(titletext)\n",
       "    this.root.append(titlebar);\n",
       "    this.header = titletext[0];\n",
       "}\n",
       "\n",
       "\n",
       "\n",
       "mpl.figure.prototype._canvas_extra_style = function(canvas_div) {\n",
       "\n",
       "}\n",
       "\n",
       "\n",
       "mpl.figure.prototype._root_extra_style = function(canvas_div) {\n",
       "\n",
       "}\n",
       "\n",
       "mpl.figure.prototype._init_canvas = function() {\n",
       "    var fig = this;\n",
       "\n",
       "    var canvas_div = $('<div/>');\n",
       "\n",
       "    canvas_div.attr('style', 'position: relative; clear: both; outline: 0');\n",
       "\n",
       "    function canvas_keyboard_event(event) {\n",
       "        return fig.key_event(event, event['data']);\n",
       "    }\n",
       "\n",
       "    canvas_div.keydown('key_press', canvas_keyboard_event);\n",
       "    canvas_div.keyup('key_release', canvas_keyboard_event);\n",
       "    this.canvas_div = canvas_div\n",
       "    this._canvas_extra_style(canvas_div)\n",
       "    this.root.append(canvas_div);\n",
       "\n",
       "    var canvas = $('<canvas/>');\n",
       "    canvas.addClass('mpl-canvas');\n",
       "    canvas.attr('style', \"left: 0; top: 0; z-index: 0; outline: 0\")\n",
       "\n",
       "    this.canvas = canvas[0];\n",
       "    this.context = canvas[0].getContext(\"2d\");\n",
       "\n",
       "    var backingStore = this.context.backingStorePixelRatio ||\n",
       "\tthis.context.webkitBackingStorePixelRatio ||\n",
       "\tthis.context.mozBackingStorePixelRatio ||\n",
       "\tthis.context.msBackingStorePixelRatio ||\n",
       "\tthis.context.oBackingStorePixelRatio ||\n",
       "\tthis.context.backingStorePixelRatio || 1;\n",
       "\n",
       "    mpl.ratio = (window.devicePixelRatio || 1) / backingStore;\n",
       "\n",
       "    var rubberband = $('<canvas/>');\n",
       "    rubberband.attr('style', \"position: absolute; left: 0; top: 0; z-index: 1;\")\n",
       "\n",
       "    var pass_mouse_events = true;\n",
       "\n",
       "    canvas_div.resizable({\n",
       "        start: function(event, ui) {\n",
       "            pass_mouse_events = false;\n",
       "        },\n",
       "        resize: function(event, ui) {\n",
       "            fig.request_resize(ui.size.width, ui.size.height);\n",
       "        },\n",
       "        stop: function(event, ui) {\n",
       "            pass_mouse_events = true;\n",
       "            fig.request_resize(ui.size.width, ui.size.height);\n",
       "        },\n",
       "    });\n",
       "\n",
       "    function mouse_event_fn(event) {\n",
       "        if (pass_mouse_events)\n",
       "            return fig.mouse_event(event, event['data']);\n",
       "    }\n",
       "\n",
       "    rubberband.mousedown('button_press', mouse_event_fn);\n",
       "    rubberband.mouseup('button_release', mouse_event_fn);\n",
       "    // Throttle sequential mouse events to 1 every 20ms.\n",
       "    rubberband.mousemove('motion_notify', mouse_event_fn);\n",
       "\n",
       "    rubberband.mouseenter('figure_enter', mouse_event_fn);\n",
       "    rubberband.mouseleave('figure_leave', mouse_event_fn);\n",
       "\n",
       "    canvas_div.on(\"wheel\", function (event) {\n",
       "        event = event.originalEvent;\n",
       "        event['data'] = 'scroll'\n",
       "        if (event.deltaY < 0) {\n",
       "            event.step = 1;\n",
       "        } else {\n",
       "            event.step = -1;\n",
       "        }\n",
       "        mouse_event_fn(event);\n",
       "    });\n",
       "\n",
       "    canvas_div.append(canvas);\n",
       "    canvas_div.append(rubberband);\n",
       "\n",
       "    this.rubberband = rubberband;\n",
       "    this.rubberband_canvas = rubberband[0];\n",
       "    this.rubberband_context = rubberband[0].getContext(\"2d\");\n",
       "    this.rubberband_context.strokeStyle = \"#000000\";\n",
       "\n",
       "    this._resize_canvas = function(width, height) {\n",
       "        // Keep the size of the canvas, canvas container, and rubber band\n",
       "        // canvas in synch.\n",
       "        canvas_div.css('width', width)\n",
       "        canvas_div.css('height', height)\n",
       "\n",
       "        canvas.attr('width', width * mpl.ratio);\n",
       "        canvas.attr('height', height * mpl.ratio);\n",
       "        canvas.attr('style', 'width: ' + width + 'px; height: ' + height + 'px;');\n",
       "\n",
       "        rubberband.attr('width', width);\n",
       "        rubberband.attr('height', height);\n",
       "    }\n",
       "\n",
       "    // Set the figure to an initial 600x600px, this will subsequently be updated\n",
       "    // upon first draw.\n",
       "    this._resize_canvas(600, 600);\n",
       "\n",
       "    // Disable right mouse context menu.\n",
       "    $(this.rubberband_canvas).bind(\"contextmenu\",function(e){\n",
       "        return false;\n",
       "    });\n",
       "\n",
       "    function set_focus () {\n",
       "        canvas.focus();\n",
       "        canvas_div.focus();\n",
       "    }\n",
       "\n",
       "    window.setTimeout(set_focus, 100);\n",
       "}\n",
       "\n",
       "mpl.figure.prototype._init_toolbar = function() {\n",
       "    var fig = this;\n",
       "\n",
       "    var nav_element = $('<div/>');\n",
       "    nav_element.attr('style', 'width: 100%');\n",
       "    this.root.append(nav_element);\n",
       "\n",
       "    // Define a callback function for later on.\n",
       "    function toolbar_event(event) {\n",
       "        return fig.toolbar_button_onclick(event['data']);\n",
       "    }\n",
       "    function toolbar_mouse_event(event) {\n",
       "        return fig.toolbar_button_onmouseover(event['data']);\n",
       "    }\n",
       "\n",
       "    for(var toolbar_ind in mpl.toolbar_items) {\n",
       "        var name = mpl.toolbar_items[toolbar_ind][0];\n",
       "        var tooltip = mpl.toolbar_items[toolbar_ind][1];\n",
       "        var image = mpl.toolbar_items[toolbar_ind][2];\n",
       "        var method_name = mpl.toolbar_items[toolbar_ind][3];\n",
       "\n",
       "        if (!name) {\n",
       "            // put a spacer in here.\n",
       "            continue;\n",
       "        }\n",
       "        var button = $('<button/>');\n",
       "        button.addClass('ui-button ui-widget ui-state-default ui-corner-all ' +\n",
       "                        'ui-button-icon-only');\n",
       "        button.attr('role', 'button');\n",
       "        button.attr('aria-disabled', 'false');\n",
       "        button.click(method_name, toolbar_event);\n",
       "        button.mouseover(tooltip, toolbar_mouse_event);\n",
       "\n",
       "        var icon_img = $('<span/>');\n",
       "        icon_img.addClass('ui-button-icon-primary ui-icon');\n",
       "        icon_img.addClass(image);\n",
       "        icon_img.addClass('ui-corner-all');\n",
       "\n",
       "        var tooltip_span = $('<span/>');\n",
       "        tooltip_span.addClass('ui-button-text');\n",
       "        tooltip_span.html(tooltip);\n",
       "\n",
       "        button.append(icon_img);\n",
       "        button.append(tooltip_span);\n",
       "\n",
       "        nav_element.append(button);\n",
       "    }\n",
       "\n",
       "    var fmt_picker_span = $('<span/>');\n",
       "\n",
       "    var fmt_picker = $('<select/>');\n",
       "    fmt_picker.addClass('mpl-toolbar-option ui-widget ui-widget-content');\n",
       "    fmt_picker_span.append(fmt_picker);\n",
       "    nav_element.append(fmt_picker_span);\n",
       "    this.format_dropdown = fmt_picker[0];\n",
       "\n",
       "    for (var ind in mpl.extensions) {\n",
       "        var fmt = mpl.extensions[ind];\n",
       "        var option = $(\n",
       "            '<option/>', {selected: fmt === mpl.default_extension}).html(fmt);\n",
       "        fmt_picker.append(option);\n",
       "    }\n",
       "\n",
       "    // Add hover states to the ui-buttons\n",
       "    $( \".ui-button\" ).hover(\n",
       "        function() { $(this).addClass(\"ui-state-hover\");},\n",
       "        function() { $(this).removeClass(\"ui-state-hover\");}\n",
       "    );\n",
       "\n",
       "    var status_bar = $('<span class=\"mpl-message\"/>');\n",
       "    nav_element.append(status_bar);\n",
       "    this.message = status_bar[0];\n",
       "}\n",
       "\n",
       "mpl.figure.prototype.request_resize = function(x_pixels, y_pixels) {\n",
       "    // Request matplotlib to resize the figure. Matplotlib will then trigger a resize in the client,\n",
       "    // which will in turn request a refresh of the image.\n",
       "    this.send_message('resize', {'width': x_pixels, 'height': y_pixels});\n",
       "}\n",
       "\n",
       "mpl.figure.prototype.send_message = function(type, properties) {\n",
       "    properties['type'] = type;\n",
       "    properties['figure_id'] = this.id;\n",
       "    this.ws.send(JSON.stringify(properties));\n",
       "}\n",
       "\n",
       "mpl.figure.prototype.send_draw_message = function() {\n",
       "    if (!this.waiting) {\n",
       "        this.waiting = true;\n",
       "        this.ws.send(JSON.stringify({type: \"draw\", figure_id: this.id}));\n",
       "    }\n",
       "}\n",
       "\n",
       "\n",
       "mpl.figure.prototype.handle_save = function(fig, msg) {\n",
       "    var format_dropdown = fig.format_dropdown;\n",
       "    var format = format_dropdown.options[format_dropdown.selectedIndex].value;\n",
       "    fig.ondownload(fig, format);\n",
       "}\n",
       "\n",
       "\n",
       "mpl.figure.prototype.handle_resize = function(fig, msg) {\n",
       "    var size = msg['size'];\n",
       "    if (size[0] != fig.canvas.width || size[1] != fig.canvas.height) {\n",
       "        fig._resize_canvas(size[0], size[1]);\n",
       "        fig.send_message(\"refresh\", {});\n",
       "    };\n",
       "}\n",
       "\n",
       "mpl.figure.prototype.handle_rubberband = function(fig, msg) {\n",
       "    var x0 = msg['x0'] / mpl.ratio;\n",
       "    var y0 = (fig.canvas.height - msg['y0']) / mpl.ratio;\n",
       "    var x1 = msg['x1'] / mpl.ratio;\n",
       "    var y1 = (fig.canvas.height - msg['y1']) / mpl.ratio;\n",
       "    x0 = Math.floor(x0) + 0.5;\n",
       "    y0 = Math.floor(y0) + 0.5;\n",
       "    x1 = Math.floor(x1) + 0.5;\n",
       "    y1 = Math.floor(y1) + 0.5;\n",
       "    var min_x = Math.min(x0, x1);\n",
       "    var min_y = Math.min(y0, y1);\n",
       "    var width = Math.abs(x1 - x0);\n",
       "    var height = Math.abs(y1 - y0);\n",
       "\n",
       "    fig.rubberband_context.clearRect(\n",
       "        0, 0, fig.canvas.width / mpl.ratio, fig.canvas.height / mpl.ratio);\n",
       "\n",
       "    fig.rubberband_context.strokeRect(min_x, min_y, width, height);\n",
       "}\n",
       "\n",
       "mpl.figure.prototype.handle_figure_label = function(fig, msg) {\n",
       "    // Updates the figure title.\n",
       "    fig.header.textContent = msg['label'];\n",
       "}\n",
       "\n",
       "mpl.figure.prototype.handle_cursor = function(fig, msg) {\n",
       "    var cursor = msg['cursor'];\n",
       "    switch(cursor)\n",
       "    {\n",
       "    case 0:\n",
       "        cursor = 'pointer';\n",
       "        break;\n",
       "    case 1:\n",
       "        cursor = 'default';\n",
       "        break;\n",
       "    case 2:\n",
       "        cursor = 'crosshair';\n",
       "        break;\n",
       "    case 3:\n",
       "        cursor = 'move';\n",
       "        break;\n",
       "    }\n",
       "    fig.rubberband_canvas.style.cursor = cursor;\n",
       "}\n",
       "\n",
       "mpl.figure.prototype.handle_message = function(fig, msg) {\n",
       "    fig.message.textContent = msg['message'];\n",
       "}\n",
       "\n",
       "mpl.figure.prototype.handle_draw = function(fig, msg) {\n",
       "    // Request the server to send over a new figure.\n",
       "    fig.send_draw_message();\n",
       "}\n",
       "\n",
       "mpl.figure.prototype.handle_image_mode = function(fig, msg) {\n",
       "    fig.image_mode = msg['mode'];\n",
       "}\n",
       "\n",
       "mpl.figure.prototype.updated_canvas_event = function() {\n",
       "    // Called whenever the canvas gets updated.\n",
       "    this.send_message(\"ack\", {});\n",
       "}\n",
       "\n",
       "// A function to construct a web socket function for onmessage handling.\n",
       "// Called in the figure constructor.\n",
       "mpl.figure.prototype._make_on_message_function = function(fig) {\n",
       "    return function socket_on_message(evt) {\n",
       "        if (evt.data instanceof Blob) {\n",
       "            /* FIXME: We get \"Resource interpreted as Image but\n",
       "             * transferred with MIME type text/plain:\" errors on\n",
       "             * Chrome.  But how to set the MIME type?  It doesn't seem\n",
       "             * to be part of the websocket stream */\n",
       "            evt.data.type = \"image/png\";\n",
       "\n",
       "            /* Free the memory for the previous frames */\n",
       "            if (fig.imageObj.src) {\n",
       "                (window.URL || window.webkitURL).revokeObjectURL(\n",
       "                    fig.imageObj.src);\n",
       "            }\n",
       "\n",
       "            fig.imageObj.src = (window.URL || window.webkitURL).createObjectURL(\n",
       "                evt.data);\n",
       "            fig.updated_canvas_event();\n",
       "            fig.waiting = false;\n",
       "            return;\n",
       "        }\n",
       "        else if (typeof evt.data === 'string' && evt.data.slice(0, 21) == \"data:image/png;base64\") {\n",
       "            fig.imageObj.src = evt.data;\n",
       "            fig.updated_canvas_event();\n",
       "            fig.waiting = false;\n",
       "            return;\n",
       "        }\n",
       "\n",
       "        var msg = JSON.parse(evt.data);\n",
       "        var msg_type = msg['type'];\n",
       "\n",
       "        // Call the  \"handle_{type}\" callback, which takes\n",
       "        // the figure and JSON message as its only arguments.\n",
       "        try {\n",
       "            var callback = fig[\"handle_\" + msg_type];\n",
       "        } catch (e) {\n",
       "            console.log(\"No handler for the '\" + msg_type + \"' message type: \", msg);\n",
       "            return;\n",
       "        }\n",
       "\n",
       "        if (callback) {\n",
       "            try {\n",
       "                // console.log(\"Handling '\" + msg_type + \"' message: \", msg);\n",
       "                callback(fig, msg);\n",
       "            } catch (e) {\n",
       "                console.log(\"Exception inside the 'handler_\" + msg_type + \"' callback:\", e, e.stack, msg);\n",
       "            }\n",
       "        }\n",
       "    };\n",
       "}\n",
       "\n",
       "// from http://stackoverflow.com/questions/1114465/getting-mouse-location-in-canvas\n",
       "mpl.findpos = function(e) {\n",
       "    //this section is from http://www.quirksmode.org/js/events_properties.html\n",
       "    var targ;\n",
       "    if (!e)\n",
       "        e = window.event;\n",
       "    if (e.target)\n",
       "        targ = e.target;\n",
       "    else if (e.srcElement)\n",
       "        targ = e.srcElement;\n",
       "    if (targ.nodeType == 3) // defeat Safari bug\n",
       "        targ = targ.parentNode;\n",
       "\n",
       "    // jQuery normalizes the pageX and pageY\n",
       "    // pageX,Y are the mouse positions relative to the document\n",
       "    // offset() returns the position of the element relative to the document\n",
       "    var x = e.pageX - $(targ).offset().left;\n",
       "    var y = e.pageY - $(targ).offset().top;\n",
       "\n",
       "    return {\"x\": x, \"y\": y};\n",
       "};\n",
       "\n",
       "/*\n",
       " * return a copy of an object with only non-object keys\n",
       " * we need this to avoid circular references\n",
       " * http://stackoverflow.com/a/24161582/3208463\n",
       " */\n",
       "function simpleKeys (original) {\n",
       "  return Object.keys(original).reduce(function (obj, key) {\n",
       "    if (typeof original[key] !== 'object')\n",
       "        obj[key] = original[key]\n",
       "    return obj;\n",
       "  }, {});\n",
       "}\n",
       "\n",
       "mpl.figure.prototype.mouse_event = function(event, name) {\n",
       "    var canvas_pos = mpl.findpos(event)\n",
       "\n",
       "    if (name === 'button_press')\n",
       "    {\n",
       "        this.canvas.focus();\n",
       "        this.canvas_div.focus();\n",
       "    }\n",
       "\n",
       "    var x = canvas_pos.x * mpl.ratio;\n",
       "    var y = canvas_pos.y * mpl.ratio;\n",
       "\n",
       "    this.send_message(name, {x: x, y: y, button: event.button,\n",
       "                             step: event.step,\n",
       "                             guiEvent: simpleKeys(event)});\n",
       "\n",
       "    /* This prevents the web browser from automatically changing to\n",
       "     * the text insertion cursor when the button is pressed.  We want\n",
       "     * to control all of the cursor setting manually through the\n",
       "     * 'cursor' event from matplotlib */\n",
       "    event.preventDefault();\n",
       "    return false;\n",
       "}\n",
       "\n",
       "mpl.figure.prototype._key_event_extra = function(event, name) {\n",
       "    // Handle any extra behaviour associated with a key event\n",
       "}\n",
       "\n",
       "mpl.figure.prototype.key_event = function(event, name) {\n",
       "\n",
       "    // Prevent repeat events\n",
       "    if (name == 'key_press')\n",
       "    {\n",
       "        if (event.which === this._key)\n",
       "            return;\n",
       "        else\n",
       "            this._key = event.which;\n",
       "    }\n",
       "    if (name == 'key_release')\n",
       "        this._key = null;\n",
       "\n",
       "    var value = '';\n",
       "    if (event.ctrlKey && event.which != 17)\n",
       "        value += \"ctrl+\";\n",
       "    if (event.altKey && event.which != 18)\n",
       "        value += \"alt+\";\n",
       "    if (event.shiftKey && event.which != 16)\n",
       "        value += \"shift+\";\n",
       "\n",
       "    value += 'k';\n",
       "    value += event.which.toString();\n",
       "\n",
       "    this._key_event_extra(event, name);\n",
       "\n",
       "    this.send_message(name, {key: value,\n",
       "                             guiEvent: simpleKeys(event)});\n",
       "    return false;\n",
       "}\n",
       "\n",
       "mpl.figure.prototype.toolbar_button_onclick = function(name) {\n",
       "    if (name == 'download') {\n",
       "        this.handle_save(this, null);\n",
       "    } else {\n",
       "        this.send_message(\"toolbar_button\", {name: name});\n",
       "    }\n",
       "};\n",
       "\n",
       "mpl.figure.prototype.toolbar_button_onmouseover = function(tooltip) {\n",
       "    this.message.textContent = tooltip;\n",
       "};\n",
       "mpl.toolbar_items = [[\"Home\", \"Reset original view\", \"fa fa-home icon-home\", \"home\"], [\"Back\", \"Back to previous view\", \"fa fa-arrow-left icon-arrow-left\", \"back\"], [\"Forward\", \"Forward to next view\", \"fa fa-arrow-right icon-arrow-right\", \"forward\"], [\"\", \"\", \"\", \"\"], [\"Pan\", \"Pan axes with left mouse, zoom with right\", \"fa fa-arrows icon-move\", \"pan\"], [\"Zoom\", \"Zoom to rectangle\", \"fa fa-square-o icon-check-empty\", \"zoom\"], [\"\", \"\", \"\", \"\"], [\"Download\", \"Download plot\", \"fa fa-floppy-o icon-save\", \"download\"]];\n",
       "\n",
       "mpl.extensions = [\"eps\", \"jpeg\", \"pdf\", \"png\", \"ps\", \"raw\", \"svg\", \"tif\"];\n",
       "\n",
       "mpl.default_extension = \"png\";var comm_websocket_adapter = function(comm) {\n",
       "    // Create a \"websocket\"-like object which calls the given IPython comm\n",
       "    // object with the appropriate methods. Currently this is a non binary\n",
       "    // socket, so there is still some room for performance tuning.\n",
       "    var ws = {};\n",
       "\n",
       "    ws.close = function() {\n",
       "        comm.close()\n",
       "    };\n",
       "    ws.send = function(m) {\n",
       "        //console.log('sending', m);\n",
       "        comm.send(m);\n",
       "    };\n",
       "    // Register the callback with on_msg.\n",
       "    comm.on_msg(function(msg) {\n",
       "        //console.log('receiving', msg['content']['data'], msg);\n",
       "        // Pass the mpl event to the overridden (by mpl) onmessage function.\n",
       "        ws.onmessage(msg['content']['data'])\n",
       "    });\n",
       "    return ws;\n",
       "}\n",
       "\n",
       "mpl.mpl_figure_comm = function(comm, msg) {\n",
       "    // This is the function which gets called when the mpl process\n",
       "    // starts-up an IPython Comm through the \"matplotlib\" channel.\n",
       "\n",
       "    var id = msg.content.data.id;\n",
       "    // Get hold of the div created by the display call when the Comm\n",
       "    // socket was opened in Python.\n",
       "    var element = $(\"#\" + id);\n",
       "    var ws_proxy = comm_websocket_adapter(comm)\n",
       "\n",
       "    function ondownload(figure, format) {\n",
       "        window.open(figure.imageObj.src);\n",
       "    }\n",
       "\n",
       "    var fig = new mpl.figure(id, ws_proxy,\n",
       "                           ondownload,\n",
       "                           element.get(0));\n",
       "\n",
       "    // Call onopen now - mpl needs it, as it is assuming we've passed it a real\n",
       "    // web socket which is closed, not our websocket->open comm proxy.\n",
       "    ws_proxy.onopen();\n",
       "\n",
       "    fig.parent_element = element.get(0);\n",
       "    fig.cell_info = mpl.find_output_cell(\"<div id='\" + id + \"'></div>\");\n",
       "    if (!fig.cell_info) {\n",
       "        console.error(\"Failed to find cell for figure\", id, fig);\n",
       "        return;\n",
       "    }\n",
       "\n",
       "    var output_index = fig.cell_info[2]\n",
       "    var cell = fig.cell_info[0];\n",
       "\n",
       "};\n",
       "\n",
       "mpl.figure.prototype.handle_close = function(fig, msg) {\n",
       "    var width = fig.canvas.width/mpl.ratio\n",
       "    fig.root.unbind('remove')\n",
       "\n",
       "    // Update the output cell to use the data from the current canvas.\n",
       "    fig.push_to_output();\n",
       "    var dataURL = fig.canvas.toDataURL();\n",
       "    // Re-enable the keyboard manager in IPython - without this line, in FF,\n",
       "    // the notebook keyboard shortcuts fail.\n",
       "    IPython.keyboard_manager.enable()\n",
       "    $(fig.parent_element).html('<img src=\"' + dataURL + '\" width=\"' + width + '\">');\n",
       "    fig.close_ws(fig, msg);\n",
       "}\n",
       "\n",
       "mpl.figure.prototype.close_ws = function(fig, msg){\n",
       "    fig.send_message('closing', msg);\n",
       "    // fig.ws.close()\n",
       "}\n",
       "\n",
       "mpl.figure.prototype.push_to_output = function(remove_interactive) {\n",
       "    // Turn the data on the canvas into data in the output cell.\n",
       "    var width = this.canvas.width/mpl.ratio\n",
       "    var dataURL = this.canvas.toDataURL();\n",
       "    this.cell_info[1]['text/html'] = '<img src=\"' + dataURL + '\" width=\"' + width + '\">';\n",
       "}\n",
       "\n",
       "mpl.figure.prototype.updated_canvas_event = function() {\n",
       "    // Tell IPython that the notebook contents must change.\n",
       "    IPython.notebook.set_dirty(true);\n",
       "    this.send_message(\"ack\", {});\n",
       "    var fig = this;\n",
       "    // Wait a second, then push the new image to the DOM so\n",
       "    // that it is saved nicely (might be nice to debounce this).\n",
       "    setTimeout(function () { fig.push_to_output() }, 1000);\n",
       "}\n",
       "\n",
       "mpl.figure.prototype._init_toolbar = function() {\n",
       "    var fig = this;\n",
       "\n",
       "    var nav_element = $('<div/>');\n",
       "    nav_element.attr('style', 'width: 100%');\n",
       "    this.root.append(nav_element);\n",
       "\n",
       "    // Define a callback function for later on.\n",
       "    function toolbar_event(event) {\n",
       "        return fig.toolbar_button_onclick(event['data']);\n",
       "    }\n",
       "    function toolbar_mouse_event(event) {\n",
       "        return fig.toolbar_button_onmouseover(event['data']);\n",
       "    }\n",
       "\n",
       "    for(var toolbar_ind in mpl.toolbar_items){\n",
       "        var name = mpl.toolbar_items[toolbar_ind][0];\n",
       "        var tooltip = mpl.toolbar_items[toolbar_ind][1];\n",
       "        var image = mpl.toolbar_items[toolbar_ind][2];\n",
       "        var method_name = mpl.toolbar_items[toolbar_ind][3];\n",
       "\n",
       "        if (!name) { continue; };\n",
       "\n",
       "        var button = $('<button class=\"btn btn-default\" href=\"#\" title=\"' + name + '\"><i class=\"fa ' + image + ' fa-lg\"></i></button>');\n",
       "        button.click(method_name, toolbar_event);\n",
       "        button.mouseover(tooltip, toolbar_mouse_event);\n",
       "        nav_element.append(button);\n",
       "    }\n",
       "\n",
       "    // Add the status bar.\n",
       "    var status_bar = $('<span class=\"mpl-message\" style=\"text-align:right; float: right;\"/>');\n",
       "    nav_element.append(status_bar);\n",
       "    this.message = status_bar[0];\n",
       "\n",
       "    // Add the close button to the window.\n",
       "    var buttongrp = $('<div class=\"btn-group inline pull-right\"></div>');\n",
       "    var button = $('<button class=\"btn btn-mini btn-primary\" href=\"#\" title=\"Stop Interaction\"><i class=\"fa fa-power-off icon-remove icon-large\"></i></button>');\n",
       "    button.click(function (evt) { fig.handle_close(fig, {}); } );\n",
       "    button.mouseover('Stop Interaction', toolbar_mouse_event);\n",
       "    buttongrp.append(button);\n",
       "    var titlebar = this.root.find($('.ui-dialog-titlebar'));\n",
       "    titlebar.prepend(buttongrp);\n",
       "}\n",
       "\n",
       "mpl.figure.prototype._root_extra_style = function(el){\n",
       "    var fig = this\n",
       "    el.on(\"remove\", function(){\n",
       "\tfig.close_ws(fig, {});\n",
       "    });\n",
       "}\n",
       "\n",
       "mpl.figure.prototype._canvas_extra_style = function(el){\n",
       "    // this is important to make the div 'focusable\n",
       "    el.attr('tabindex', 0)\n",
       "    // reach out to IPython and tell the keyboard manager to turn it's self\n",
       "    // off when our div gets focus\n",
       "\n",
       "    // location in version 3\n",
       "    if (IPython.notebook.keyboard_manager) {\n",
       "        IPython.notebook.keyboard_manager.register_events(el);\n",
       "    }\n",
       "    else {\n",
       "        // location in version 2\n",
       "        IPython.keyboard_manager.register_events(el);\n",
       "    }\n",
       "\n",
       "}\n",
       "\n",
       "mpl.figure.prototype._key_event_extra = function(event, name) {\n",
       "    var manager = IPython.notebook.keyboard_manager;\n",
       "    if (!manager)\n",
       "        manager = IPython.keyboard_manager;\n",
       "\n",
       "    // Check for shift+enter\n",
       "    if (event.shiftKey && event.which == 13) {\n",
       "        this.canvas_div.blur();\n",
       "        event.shiftKey = false;\n",
       "        // Send a \"J\" for go to next cell\n",
       "        event.which = 74;\n",
       "        event.keyCode = 74;\n",
       "        manager.command_mode();\n",
       "        manager.handle_keydown(event);\n",
       "    }\n",
       "}\n",
       "\n",
       "mpl.figure.prototype.handle_save = function(fig, msg) {\n",
       "    fig.ondownload(fig, null);\n",
       "}\n",
       "\n",
       "\n",
       "mpl.find_output_cell = function(html_output) {\n",
       "    // Return the cell and output element which can be found *uniquely* in the notebook.\n",
       "    // Note - this is a bit hacky, but it is done because the \"notebook_saving.Notebook\"\n",
       "    // IPython event is triggered only after the cells have been serialised, which for\n",
       "    // our purposes (turning an active figure into a static one), is too late.\n",
       "    var cells = IPython.notebook.get_cells();\n",
       "    var ncells = cells.length;\n",
       "    for (var i=0; i<ncells; i++) {\n",
       "        var cell = cells[i];\n",
       "        if (cell.cell_type === 'code'){\n",
       "            for (var j=0; j<cell.output_area.outputs.length; j++) {\n",
       "                var data = cell.output_area.outputs[j];\n",
       "                if (data.data) {\n",
       "                    // IPython >= 3 moved mimebundle to data attribute of output\n",
       "                    data = data.data;\n",
       "                }\n",
       "                if (data['text/html'] == html_output) {\n",
       "                    return [cell, data, j];\n",
       "                }\n",
       "            }\n",
       "        }\n",
       "    }\n",
       "}\n",
       "\n",
       "// Register the function which deals with the matplotlib target/channel.\n",
       "// The kernel may be null if the page has been refreshed.\n",
       "if (IPython.notebook.kernel != null) {\n",
       "    IPython.notebook.kernel.comm_manager.register_target('matplotlib', mpl.mpl_figure_comm);\n",
       "}\n"
      ],
      "text/plain": [
       "<IPython.core.display.Javascript object>"
      ]
     },
     "metadata": {},
     "output_type": "display_data"
    },
    {
     "data": {
      "text/html": [
       "<img src=\"data:image/png;base64,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\" width=\"640\">"
      ],
      "text/plain": [
       "<IPython.core.display.HTML object>"
      ]
     },
     "metadata": {},
     "output_type": "display_data"
    },
    {
     "data": {
      "text/plain": [
       "Text(0.5, 0.95, 'TW 300 s    DL 8   BS 5')"
      ]
     },
     "execution_count": 407,
     "metadata": {},
     "output_type": "execute_result"
    }
   ],
   "source": [
    "# Plotting the variability data\n",
    "%matplotlib notebook\n",
    "plt.subplot(111, projection=w)\n",
    "\n",
    "im = plt.imshow(data, cmap=cm.inferno, norm=colors.LogNorm(vmin=0.1, vmax=maximum_value), extent=dlim)\n",
    "\n",
    "ax = plt.gca()\n",
    "ax.set_facecolor('k')\n",
    "cbar = plt.colorbar(im)\n",
    "\n",
    "# Plotting the sources\n",
    "if len(src) != 0 :\n",
    "    # Position of the sources\n",
    "    for s in src:\n",
    "        plt.plot(s['X'], s['Y'], 'wo', alpha = 1, fillstyle='none', ms=s['RAWR'],zorder=1)\n",
    "        if header['INSTRUME']=='EPN':\n",
    "            if s['ID'] in np.append(np.array(corr_PN_M1['ID_1']),np.array(corr_PN_M2['ID_1'])):\n",
    "                plt.plot(s['X'], s['Y'], 'bo', alpha = 1, fillstyle='none', ms=s['RAWR'],zorder=2)\n",
    "            for j in range(len(src_triple)):\n",
    "                if s['ID']==src_triple[j][0]:\n",
    "                    plt.plot(s['X'], s['Y'], 'go', alpha = 1, fillstyle='none', ms=s['RAWR'],zorder=3)\n",
    "        elif header['INSTRUME']=='EMOS1':\n",
    "            if s['ID'] in np.append(np.array(corr_PN_M1['ID_2']),np.array(corr_M1_M2['ID_1'])):\n",
    "                plt.plot(s['X'], s['Y'], 'bo', alpha = 1, fillstyle='none', ms=s['RAWR'],zorder=2)\n",
    "            for j in range(len(src_triple)):\n",
    "                if s['ID']==src_triple[j][2]:\n",
    "                    plt.plot(s['X'], s['Y'], 'go', alpha = 1, fillstyle='none', ms=s['RAWR'],zorder=3)\n",
    "        elif header['INSTRUME']=='EMOS2':\n",
    "            if s['ID'] in np.append(np.array(corr_M1_M2['ID_2']),np.array(corr_PN_M2['ID_2'])):\n",
    "                plt.plot(s['X'], s['Y'], 'bo', alpha = 1, fillstyle='none', ms=s['RAWR'],zorder=2)\n",
    "            for j in range(len(src_triple)):\n",
    "                if s['ID']==src_triple[j][4]:\n",
    "                    plt.plot(s['X'], s['Y'], 'go', alpha = 1, fillstyle='none', ms=s['RAWR'],zorder=3)\n",
    "        \n",
    "\n",
    "ra  = ax.coords[0]\n",
    "dec = ax.coords[1]\n",
    "\n",
    "ra.display_minor_ticks(True)\n",
    "dec.display_minor_ticks(True)\n",
    "ax.tick_params(axis='both', which='both', direction='in', color='w', width=1)\n",
    "\n",
    "# Labels\n",
    "plt.xlabel('RA', fontsize=10)\n",
    "plt.ylabel('DEC', fontsize=10)\n",
    "cbar.ax.set_ylabel('Variability', fontsize=10)\n",
    "\n",
    "# Title\n",
    "plt.title('OBS {0}   Inst: {1}'.format(header['OBS_ID'], header['INSTRUME']), fontsize=14)\n",
    "plt.text(0.5, 0.95, \"TW {0} s    DL {1}   BS {2}\".format(tw, dl, bs), color='white', fontsize=10, horizontalalignment='center', transform = ax.transAxes)"
   ]
  },
  {
   "cell_type": "markdown",
   "metadata": {},
   "source": [
    "#### Test"
   ]
  },
  {
   "cell_type": "code",
   "execution_count": 144,
   "metadata": {},
   "outputs": [
    {
     "data": {
      "text/plain": [
       "False"
      ]
     },
     "execution_count": 144,
     "metadata": {},
     "output_type": "execute_result"
    }
   ],
   "source": [
    "2 in np.append(np.array(corr_PN_M1['ID_1']),np.array(corr_PN_M2['ID_1']))"
   ]
  },
  {
   "cell_type": "code",
   "execution_count": 153,
   "metadata": {},
   "outputs": [
    {
     "data": {
      "text/plain": [
       "[[6, 'PN', 1, 'M1', 1, 'M2']]"
      ]
     },
     "execution_count": 153,
     "metadata": {},
     "output_type": "execute_result"
    }
   ],
   "source": [
    "src_triple"
   ]
  },
  {
   "cell_type": "code",
   "execution_count": 157,
   "metadata": {},
   "outputs": [
    {
     "data": {
      "text/plain": [
       "1"
      ]
     },
     "execution_count": 157,
     "metadata": {},
     "output_type": "execute_result"
    }
   ],
   "source": [
    "src_triple[0][4]"
   ]
  },
  {
   "cell_type": "code",
   "execution_count": 11,
   "metadata": {},
   "outputs": [
    {
     "ename": "NameError",
     "evalue": "name 'sources_all' is not defined",
     "output_type": "error",
     "traceback": [
      "\u001b[0;31m---------------------------------------------------------------------------\u001b[0m",
      "\u001b[0;31mNameError\u001b[0m                                 Traceback (most recent call last)",
      "\u001b[0;32m<ipython-input-11-fef1a2d5ebc8>\u001b[0m in \u001b[0;36m<module>\u001b[0;34m\u001b[0m\n\u001b[0;32m----> 1\u001b[0;31m \u001b[0msources_all\u001b[0m\u001b[0;34m\u001b[0m\u001b[0;34m\u001b[0m\u001b[0m\n\u001b[0m",
      "\u001b[0;31mNameError\u001b[0m: name 'sources_all' is not defined"
     ]
    }
   ],
   "source": [
    "sources_all"
   ]
  },
  {
   "cell_type": "code",
   "execution_count": null,
   "metadata": {},
   "outputs": [],
   "source": []
  },
  {
   "cell_type": "code",
   "execution_count": null,
   "metadata": {},
   "outputs": [],
   "source": []
  },
  {
   "cell_type": "code",
   "execution_count": null,
   "metadata": {},
   "outputs": [],
   "source": []
  }
 ],
 "metadata": {
  "kernelspec": {
   "display_name": "Python 3",
   "language": "python",
   "name": "python3"
  },
  "language_info": {
   "codemirror_mode": {
    "name": "ipython",
    "version": 3
   },
   "file_extension": ".py",
   "mimetype": "text/x-python",
   "name": "python",
   "nbconvert_exporter": "python",
   "pygments_lexer": "ipython3",
   "version": "3.7.4"
  }
 },
 "nbformat": 4,
 "nbformat_minor": 2
}
